{
 "cells": [
  {
   "cell_type": "code",
   "execution_count": 56,
   "metadata": {},
   "outputs": [
    {
     "name": "stdout",
     "output_type": "stream",
     "text": [
      "1.4142135623730951\n",
      "[1.0, 0.3678794411714424, 0.3678794411714424, 0.13533528323661276]\n",
      "[0.13533528323661276, 0.3678794411714424, 0.3678794411714424, 1.0]\n"
     ]
    },
    {
     "data": {
      "image/png": "[encoded data removed]",
      "text/plain": [
       "<matplotlib.figure.Figure at 0x6b2a970>"
      ]
     },
     "metadata": {},
     "output_type": "display_data"
    },
    {
     "name": "stdout",
     "output_type": "stream",
     "text": [
      "[-2.5026503  -2.5026503   2.84134719]\n"
     ]
    }
   ],
   "source": [
    "import numpy as np\n",
    "import math as m\n",
    "import matplotlib.pyplot as plt\n",
    "x1=np.array([0,0,1,1])\n",
    "x2=np.array([0,1,0,1])\n",
    "t=np.array([0,1,1,0])\n",
    "G=[]\n",
    "phi1=[]\n",
    "phi2=[]\n",
    "M=2\n",
    "mu1=[0,0]\n",
    "mu2=[1,1]\n",
    "dmax=0\n",
    "temp=0\n",
    "for i in range(0,2):\n",
    "    temp=temp+((mu1[i]-mu2[i])**2)\n",
    "    dmax=m.sqrt(temp)\n",
    "print(dmax)\n",
    "\n",
    "for i in range (4):\n",
    "    phi1.append(m.exp(((-1*M)/((dmax)**2)*(((x1[i]-mu1[0])**2)+(x2[i]-mu1[1])**2))))\n",
    "    phi2.append(m.exp(((-1*M)/((dmax)**2)*(((x1[i]-mu2[0])**2)+(x2[i]-mu2[1])**2))))\n",
    "print(phi1)\n",
    "print(phi2)\n",
    "\n",
    "plt.plot(phi1,phi2,'ro')\n",
    "plt.plot([0,0.9],[0.9,0],'--b')\n",
    "plt.show()\n",
    "\n",
    "G.append(phi1)\n",
    "G.append(phi2)\n",
    "G.append([1,1,1,1])\n",
    "Gt=np.array(G)\n",
    "G=Gt.transpose()\n",
    "#print(G)\n",
    "\n",
    "gp=np.linalg.inv(Gt.dot(G)).dot(Gt)\n",
    "#print(gp)\n",
    "\n",
    "w=gp.dot(t.transpose())\n",
    "print(w)"
   ]
  },
  {
   "cell_type": "code",
   "execution_count": null,
   "metadata": {
    "collapsed": true
   },
   "outputs": [],
   "source": []
  },
  {
   "cell_type": "code",
   "execution_count": null,
   "metadata": {
    "collapsed": true
   },
   "outputs": [],
   "source": []
  },
  {
   "cell_type": "code",
   "execution_count": null,
   "metadata": {
    "collapsed": true
   },
   "outputs": [],
   "source": []
  },
  {
   "cell_type": "code",
   "execution_count": null,
   "metadata": {
    "collapsed": true
   },
   "outputs": [],
   "source": []
  },
  {
   "cell_type": "code",
   "execution_count": null,
   "metadata": {
    "collapsed": true
   },
   "outputs": [],
   "source": []
  }
 ],
 "metadata": {
  "kernelspec": {
   "display_name": "Python 3",
   "language": "python",
   "name": "python3"
  },
  "language_info": {
   "codemirror_mode": {
    "name": "ipython",
    "version": 3
   },
   "file_extension": ".py",
   "mimetype": "text/x-python",
   "name": "python",
   "nbconvert_exporter": "python",
   "pygments_lexer": "ipython3",
   "version": "3.6.3"
  }
 },
 "nbformat": 4,
 "nbformat_minor": 2
}
