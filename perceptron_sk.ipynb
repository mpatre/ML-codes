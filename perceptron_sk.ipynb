{
 "cells": [
  {
   "cell_type": "code",
   "execution_count": 62,
   "metadata": {},
   "outputs": [
    {
     "name": "stdout",
     "output_type": "stream",
     "text": [
      "w1=  1 w2=  1 b=  1\n",
      "Don't\n",
      "w1=  1 w2=  1 b=  1\n",
      "Don't\n",
      "w1=  1 w2=  1 b=  1\n",
      "Don't\n",
      "w1=  1 w2=  1 b=  1\n",
      "Don't\n",
      "w1=  1 w2=  1 b=  1\n"
     ]
    },
    {
     "data": {
      "image/png": "[encoded data removed]",
      "text/plain": [
       "<matplotlib.figure.Figure at 0x6705710>"
      ]
     },
     "metadata": {},
     "output_type": "display_data"
    }
   ],
   "source": [
    "import numpy as np\n",
    "import matplotlib.pyplot as plt\n",
    "x1=np.array([1,1,-1,-1])\n",
    "x2=np.array([1,-1,1,-1])\n",
    "y=np.array([0,0,0,0])\n",
    "t=np.array([1,1,1,-1])\n",
    "alpha=1\n",
    "w1=0\n",
    "w2=0\n",
    "b=0\n",
    "for i in range (10):\n",
    "    if(i==4):\n",
    "        i=0\n",
    "    yin[i]=(x1[i]*w1)+(x2[i]*w2)+b\n",
    "    \n",
    "    if(yin[i]>0):\n",
    "        y[i]=1\n",
    "    elif(yin[i]==0):\n",
    "        y[i]=0\n",
    "    elif(yin[i]<0):\n",
    "        y[i]=-1\n",
    "    if(y[i]==t[i]):\n",
    "        print(\"Don't\")\n",
    "    else:\n",
    "        w1=w1+(alpha*t[i]*x1[i])\n",
    "        w2=w2+(alpha*t[i]*x2[i])\n",
    "        b=b+(alpha*t[i])\n",
    "    print(\"w1= \", w1, \"w2= \", w2, \"b= \",b)\n",
    "    if(y.all()==t.all()):\n",
    "        break;\n",
    "\n",
    "slope=(w1/w2)*-1\n",
    "inter=b/w2\n",
    "for ele in range(4):\n",
    "    plt.plot(x1,x2,'rs')\n",
    "for i in range (-5,5):\n",
    "    y1=(slope*i)+inter\n",
    "    plt.plot(i,y1,'b.')\n",
    "plt.show()"
   ]
  },
  {
   "cell_type": "code",
   "execution_count": null,
   "metadata": {
    "collapsed": true
   },
   "outputs": [],
   "source": []
  },
  {
   "cell_type": "code",
   "execution_count": null,
   "metadata": {
    "collapsed": true
   },
   "outputs": [],
   "source": []
  }
 ],
 "metadata": {
  "kernelspec": {
   "display_name": "Python 3",
   "language": "python",
   "name": "python3"
  },
  "language_info": {
   "codemirror_mode": {
    "name": "ipython",
    "version": 3
   },
   "file_extension": ".py",
   "mimetype": "text/x-python",
   "name": "python",
   "nbconvert_exporter": "python",
   "pygments_lexer": "ipython3",
   "version": "3.6.3"
  }
 },
 "nbformat": 4,
 "nbformat_minor": 2
}
